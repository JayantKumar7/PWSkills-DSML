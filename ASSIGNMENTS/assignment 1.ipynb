{
 "cells": [
  {
   "cell_type": "code",
   "execution_count": null,
   "id": "2b93adfb-b52d-47f2-908b-5ea96a394ac6",
   "metadata": {},
   "outputs": [],
   "source": [
    "# Q1. Create one variable containing following type of data:\n",
    "# (i) string\n",
    "# (ii) list\n",
    "# (iii) float\n",
    "# (iv) tuple"
   ]
  },
  {
   "cell_type": "code",
   "execution_count": 6,
   "id": "abec6fe8-800b-4b37-aa0a-8addecd4a160",
   "metadata": {
    "tags": []
   },
   "outputs": [
    {
     "name": "stdout",
     "output_type": "stream",
     "text": [
      "This is jayant's assignment\n",
      "[23, 56, 33.56, 'jay', 'pw', 'ineuron']\n",
      "3.56\n",
      "(4, 6, 744, 667)\n"
     ]
    }
   ],
   "source": [
    "Variable_string = \"This is jayant's assignment\"\n",
    "variable_list = [ 23,56,33.56,\"jay\",\"pw\",\"ineuron\"]\n",
    "variable_float = 3.56\n",
    "variable_tuple = ( 4,6,744,667)\n",
    "\n",
    "\n",
    "\n",
    "print(Variable_string)\n",
    "print(variable_list)\n",
    "print(variable_float)\n",
    "print(variable_tuple)"
   ]
  },
  {
   "cell_type": "code",
   "execution_count": null,
   "id": "84f59556-eafb-4e59-b998-531620d72e47",
   "metadata": {},
   "outputs": [],
   "source": [
    "# Q2. Given are some following variables containing data:\n",
    "# (i) var1 = ' ' \n",
    "# (ii) var2 = \"[ DS , ML , Python]\"\n",
    "# (iii) var3 = [ 'DS' , 'ML' , 'Python' ]\n",
    "# (iv) var4 = 1\n",
    "# What will be the data type of the above given variable."
   ]
  },
  {
   "cell_type": "code",
   "execution_count": 27,
   "id": "b82bf211-55a1-43b9-bb8d-3c2602eab533",
   "metadata": {},
   "outputs": [
    {
     "name": "stdout",
     "output_type": "stream",
     "text": [
      "<class 'str'>\n",
      "<class 'str'>\n",
      "<class 'list'>\n",
      "<class 'int'>\n"
     ]
    }
   ],
   "source": [
    "var1 = ' ' \n",
    "var2 = \"[ DS , ML , Python]\"\n",
    "var3 = [ 'DS' , 'ML' , 'Python' ]\n",
    "var4 = 1\n",
    "\n",
    "\n",
    "\n",
    "\n",
    "print(type(var1))\n",
    "print(type(var2))\n",
    "print(type(var3))\n",
    "print(type(var4))"
   ]
  },
  {
   "cell_type": "code",
   "execution_count": 33,
   "id": "0560f079-ad74-43d8-a987-5526cc722011",
   "metadata": {},
   "outputs": [],
   "source": [
    "# Q3. Explain the use of the following operators using an example:\n",
    "# (i) /\n",
    "# (ii) %\n",
    "# (iii) //\n",
    "# (iv) ** "
   ]
  },
  {
   "cell_type": "code",
   "execution_count": 37,
   "id": "184ba4bb-e6b5-4bbe-9a8a-744cc383fdd7",
   "metadata": {},
   "outputs": [
    {
     "name": "stdout",
     "output_type": "stream",
     "text": [
      "2.5\n",
      "1\n",
      "2\n",
      "25\n"
     ]
    }
   ],
   "source": [
    "\n",
    "# / is a division operator it divides number\n",
    "# % is a modulus operator and it gives remainder\n",
    "# // floor division operator and it return quotient in which digits after decimal is removed\n",
    "# ** exponent operator (power)\n",
    "\n",
    "#  examples of / % // ** \n",
    "\n",
    "a=5\n",
    "b=2\n",
    "print(a/b)\n",
    "print(a%b)\n",
    "print(a//b)\n",
    "print(a**b)"
   ]
  },
  {
   "cell_type": "code",
   "execution_count": null,
   "id": "05b26717-6a0e-4f6f-b567-3b06712ae0ab",
   "metadata": {},
   "outputs": [],
   "source": [
    "# Q4. Create a list of length 10 of your choice containing multiple types of data. Using for loop print the\n",
    "# element and its data type."
   ]
  },
  {
   "cell_type": "code",
   "execution_count": 46,
   "id": "f895053f-0d93-4582-bfed-256fb9140140",
   "metadata": {},
   "outputs": [
    {
     "name": "stdout",
     "output_type": "stream",
     "text": [
      "ajay\n",
      "<class 'str'>\n",
      "56\n",
      "<class 'int'>\n",
      "range(0, 5)\n",
      "<class 'range'>\n",
      "7.44\n",
      "<class 'float'>\n",
      "(4+2j)\n",
      "<class 'complex'>\n",
      "jay\n",
      "<class 'str'>\n",
      "44.33\n",
      "<class 'float'>\n",
      "78\n",
      "<class 'int'>\n",
      "{45, 23}\n",
      "<class 'set'>\n",
      "True\n",
      "<class 'bool'>\n"
     ]
    }
   ],
   "source": [
    "list=[\"ajay\",56,range(5),7.44,4+2j,\"jay\",44.33,78,{23,45},True]\n",
    "for i in list :\n",
    "    print(i)\n",
    "    print((type(i)))"
   ]
  },
  {
   "cell_type": "code",
   "execution_count": null,
   "id": "b7ffb7c7-0f0d-4962-bd25-5a3e3fe86140",
   "metadata": {},
   "outputs": [],
   "source": [
    "# Q5. Using a while loop, verify if the number A is purely divisible by number B and if so then how many\n",
    "# times it can be divisible."
   ]
  },
  {
   "cell_type": "code",
   "execution_count": 66,
   "id": "e6b2427c-5d2e-4fbb-be76-170bd6b33085",
   "metadata": {},
   "outputs": [
    {
     "name": "stdin",
     "output_type": "stream",
     "text": [
      "Enter number A :  25\n",
      "Enter number B :  5\n"
     ]
    },
    {
     "name": "stdout",
     "output_type": "stream",
     "text": [
      "25 is divisible by  5 , 2 times\n"
     ]
    }
   ],
   "source": [
    "a = int(input(\"Enter number A : \"))\n",
    "b = int(input(\"Enter number B : \"))\n",
    "if a % b == 0 :\n",
    "    c = 0 \n",
    "    d=a\n",
    "    while a%b == 0:\n",
    "        c = c+1\n",
    "        a = a//b\n",
    "    else :\n",
    "    \n",
    "        print(d, \"is divisible by \", b, \",\", c, \"times\")\n",
    "else :\n",
    "    print(a,' is not divisible by ',b)"
   ]
  },
  {
   "cell_type": "code",
   "execution_count": null,
   "id": "c774bb13-9b92-4677-9898-45b7070aed9a",
   "metadata": {},
   "outputs": [],
   "source": [
    "# Q6.Create a list containing 25 int type data. Using for loop and if-else condition print if the elementis\n",
    "# divisible by 3 or not."
   ]
  },
  {
   "cell_type": "code",
   "execution_count": null,
   "id": "d57bdb1e-8274-42f3-acce-1cbe4dd510cf",
   "metadata": {},
   "outputs": [],
   "source": [
    "l = []\n",
    "for i in range(25):\n",
    "    l.append(int(input(\"Enter Number : - \")))\n",
    "print(l)\n",
    "for  i in l:\n",
    "    if i % 3 == 0 :\n",
    "        print(i,\" is divisible by 3\")\n",
    "    else:\n",
    "        print(i, \"is not divisible by 3\")"
   ]
  },
  {
   "cell_type": "code",
   "execution_count": null,
   "id": "dfcd6e16-a3ad-44c7-8fe5-8f93e79927d5",
   "metadata": {},
   "outputs": [],
   "source": [
    "# Q7. What do you understand about mutable and immutable data types? Give examples for both showing\n",
    "# this property."
   ]
  },
  {
   "cell_type": "markdown",
   "id": "d22c3651-09aa-43a5-9a48-ff9c836d3e05",
   "metadata": {},
   "source": [
    "Mutable data types: A mutable data type is a type whose values can be changed after they are created.\n",
    "Immutable data types: An immutable data type is a type whose values cannot be changed after they are created.\n"
   ]
  },
  {
   "cell_type": "code",
   "execution_count": 111,
   "id": "8722f544-0030-4168-a8c4-4b2215622a28",
   "metadata": {},
   "outputs": [
    {
     "name": "stdout",
     "output_type": "stream",
     "text": [
      "boy\n"
     ]
    },
    {
     "ename": "TypeError",
     "evalue": "'str' object does not support item assignment",
     "output_type": "error",
     "traceback": [
      "\u001b[0;31m---------------------------------------------------------------------------\u001b[0m",
      "\u001b[0;31mTypeError\u001b[0m                                 Traceback (most recent call last)",
      "Cell \u001b[0;32mIn[111], line 5\u001b[0m\n\u001b[1;32m      3\u001b[0m A \u001b[38;5;241m=\u001b[39m\u001b[38;5;124m\"\u001b[39m\u001b[38;5;124mboy\u001b[39m\u001b[38;5;124m\"\u001b[39m\n\u001b[1;32m      4\u001b[0m \u001b[38;5;28mprint\u001b[39m(A)\n\u001b[0;32m----> 5\u001b[0m \u001b[43mA\u001b[49m\u001b[43m[\u001b[49m\u001b[38;5;241;43m0\u001b[39;49m\u001b[43m]\u001b[49m\u001b[38;5;241m=\u001b[39m\u001b[38;5;241m66\u001b[39m\n\u001b[1;32m      6\u001b[0m \u001b[38;5;28mprint\u001b[39m(A)\n",
      "\u001b[0;31mTypeError\u001b[0m: 'str' object does not support item assignment"
     ]
    }
   ],
   "source": [
    "# example of immutable data type\n",
    "\n",
    "A =\"boy\"\n",
    "print(A)\n",
    "A[0]=66\n",
    "print(A)"
   ]
  },
  {
   "cell_type": "code",
   "execution_count": 110,
   "id": "f0c53982-bee1-4146-b5a1-1350da71ad1c",
   "metadata": {},
   "outputs": [
    {
     "name": "stdout",
     "output_type": "stream",
     "text": [
      "[2, 3]\n",
      "[4, 3]\n"
     ]
    }
   ],
   "source": [
    "# Example of Mutable data types\n",
    "list = [2,3]\n",
    "print(l)\n",
    "list[0] = 4\n",
    "print(list)"
   ]
  },
  {
   "cell_type": "code",
   "execution_count": null,
   "id": "ed4d5163-ab87-4acb-9b66-4abe879bc525",
   "metadata": {},
   "outputs": [],
   "source": []
  }
 ],
 "metadata": {
  "kernelspec": {
   "display_name": "Python 3 (ipykernel)",
   "language": "python",
   "name": "python3"
  },
  "language_info": {
   "codemirror_mode": {
    "name": "ipython",
    "version": 3
   },
   "file_extension": ".py",
   "mimetype": "text/x-python",
   "name": "python",
   "nbconvert_exporter": "python",
   "pygments_lexer": "ipython3",
   "version": "3.10.8"
  }
 },
 "nbformat": 4,
 "nbformat_minor": 5
}
